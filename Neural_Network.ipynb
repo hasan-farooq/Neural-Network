{
  "nbformat": 4,
  "nbformat_minor": 5,
  "metadata": {
    "kernelspec": {
      "display_name": "Python 3",
      "language": "python",
      "name": "python3"
    },
    "language_info": {
      "codemirror_mode": {
        "name": "ipython",
        "version": 3
      },
      "file_extension": ".py",
      "mimetype": "text/x-python",
      "name": "python",
      "nbconvert_exporter": "python",
      "pygments_lexer": "ipython3",
      "version": "3.8.5"
    },
    "colab": {
      "name": "Neural Network.ipynb",
      "provenance": [],
      "collapsed_sections": []
    },
    "accelerator": "GPU"
  },
  "cells": [
    {
      "cell_type": "code",
      "metadata": {
        "id": "spatial-concert"
      },
      "source": [
        ""
      ],
      "id": "spatial-concert",
      "execution_count": null,
      "outputs": []
    },
    {
      "cell_type": "code",
      "metadata": {
        "scrolled": true,
        "id": "correct-third"
      },
      "source": [
        "import numpy as np\n",
        "import matplotlib.pyplot as plt\n",
        "from scipy.special import expit    # sigmoid/logistic function\n",
        "\n"
      ],
      "id": "correct-third",
      "execution_count": 163,
      "outputs": []
    },
    {
      "cell_type": "code",
      "metadata": {
        "colab": {
          "base_uri": "https://localhost:8080/"
        },
        "id": "hB88lBdgcHHE",
        "outputId": "ed4a50e0-ad76-4213-8a86-a11602a16330"
      },
      "source": [
        "# %tensorflow_version 2.x\n",
        "# for gpu use\n",
        "import tensorflow as tf\n",
        "device_name = tf.test.gpu_device_name()\n",
        "if device_name != '/device:GPU:0':\n",
        "  raise SystemError('GPU device not found')\n",
        "print('Found GPU at: {}'.format(device_name))"
      ],
      "id": "hB88lBdgcHHE",
      "execution_count": 164,
      "outputs": [
        {
          "output_type": "stream",
          "text": [
            "Found GPU at: /device:GPU:0\n"
          ],
          "name": "stdout"
        }
      ]
    },
    {
      "cell_type": "code",
      "metadata": {
        "id": "aTFIqrgzcJq0"
      },
      "source": [
        ""
      ],
      "id": "aTFIqrgzcJq0",
      "execution_count": 164,
      "outputs": []
    },
    {
      "cell_type": "code",
      "metadata": {
        "id": "6gdhLkzbeqBf"
      },
      "source": [
        "# from tensorflow.python.client import device_lib\n",
        "# device_lib.list_local_devices()"
      ],
      "id": "6gdhLkzbeqBf",
      "execution_count": 165,
      "outputs": []
    },
    {
      "cell_type": "code",
      "metadata": {
        "id": "46r77zCj1tyU"
      },
      "source": [
        ""
      ],
      "id": "46r77zCj1tyU",
      "execution_count": 165,
      "outputs": []
    },
    {
      "cell_type": "code",
      "metadata": {
        "id": "QPnndjphKsdz"
      },
      "source": [
        "# 3-layers in the model -> input,hidden,output\n",
        "\n",
        "class neural_network:\n",
        "    def __init__(self, input_nodes, hidden_nodes, output_nodes, learning_rate):\n",
        "        self.input_nodes = input_nodes\n",
        "        self.hidden_nodes = hidden_nodes\n",
        "        self.output_nodes = output_nodes\n",
        "        self.learning_rate = learning_rate\n",
        "        self.input_hidden_weights = np.random.uniform(-1,1,(self.hidden_nodes,self.input_nodes))\n",
        "        self.hidden_output_weights = np.random.uniform(-1,1,(self.output_nodes,self.hidden_nodes))\n",
        "        \n",
        "    def activation(self, layer):\n",
        "        return expit(layer)\n",
        "        \n",
        "    def train(self,inputs,labels):\n",
        "        inputs = np.array(inputs,ndmin=2).T  #transpose to make it valid for multiplication \n",
        "        labels = np.array(labels,ndmin=2).T\n",
        "#         follwing snippet is like predict one because first we feed-forward then backwards\n",
        "        hidden_layer_inputs = np.dot(self.input_hidden_weights,inputs) #this does sum of weights*input_values\n",
        "        hidden_layer_outputs = self.activation(hidden_layer_inputs)   # this assigns some value to nodes/neurons\n",
        "        output_layer_inputs = np.dot(self.hidden_output_weights,hidden_layer_outputs)\n",
        "        output_layer_outputs = self.activation(output_layer_inputs)\n",
        "#    ---------------------------------------------------------------------------\n",
        "#       backpropagation\n",
        "        final_errors = labels - output_layer_outputs\n",
        "        hidden_errors = np.dot(self.hidden_output_weights.T, final_errors)\n",
        "        \n",
        "#         following are derivatives for  3 layers\n",
        "\n",
        "        self.hidden_output_weights += self.learning_rate * np.dot((final_errors * output_layer_outputs *\n",
        "        (1.0 - output_layer_outputs)), np.transpose(hidden_layer_outputs))\n",
        "\n",
        "        self.input_hidden_weights += self.learning_rate * np.dot((hidden_errors* hidden_layer_outputs *\n",
        "        (1.0 - hidden_layer_outputs)), np.transpose(inputs))\n",
        "        \n",
        "    \n",
        "    def predict(self,inputs):\n",
        "#     this is like feed-forwarding\n",
        "\n",
        "        inputs = np.array(inputs,ndmin=2).T  #transpose to make it valid for multiplication\n",
        "        \n",
        "        hidden_layer_inputs = np.dot(self.input_hidden_weights,inputs) #this does sum of weights*input_values\n",
        "        hidden_layer_outputs = self.activation(hidden_layer_inputs)   # this assigns some value to nodes/neurons\n",
        "        \n",
        "        output_layer_inputs = np.dot(self.hidden_output_weights,hidden_layer_outputs)\n",
        "        output_layer_outputs = self.activation(output_layer_inputs)\n",
        "        return output_layer_outputs\n",
        "\n"
      ],
      "id": "QPnndjphKsdz",
      "execution_count": 166,
      "outputs": []
    },
    {
      "cell_type": "code",
      "metadata": {
        "id": "OZNElKtaKsnL"
      },
      "source": [
        "# number of input, hidden and output nodes\n",
        "input_nodes = 784\n",
        "hidden_nodes = 100\n",
        "output_nodes = 10\n",
        "learning_rate = 0.1\n",
        "\n",
        "model = neural_network(input_nodes,hidden_nodes,output_nodes,learning_rate)\n",
        "\n",
        "training_data_file = open(\"mnist_train.csv\", 'r')\n",
        "training_data_list = training_data_file.readlines()\n",
        "training_data_file.close()\n",
        "\n",
        "for record in training_data_list:\n",
        "    all_values = record.split(',')\n",
        "    inputs = (np.asfarray(all_values[1:]) / 255.0 * 0.99) + 0.01\n",
        "    targets = np.zeros(output_nodes) + 0.01\n",
        "    targets[int(all_values[0])] = 0.99\n",
        "    model.train(inputs, targets)\n",
        "\n"
      ],
      "id": "OZNElKtaKsnL",
      "execution_count": 167,
      "outputs": []
    },
    {
      "cell_type": "code",
      "metadata": {
        "id": "YZhdQLg8KtBk"
      },
      "source": [
        "test_data_file = open(\"mnist_test.csv\", 'r')\n",
        "test_data_list = test_data_file.readlines()\n",
        "test_data_file.close()"
      ],
      "id": "YZhdQLg8KtBk",
      "execution_count": 168,
      "outputs": []
    },
    {
      "cell_type": "code",
      "metadata": {
        "id": "wdmo5cIHKuB-"
      },
      "source": [
        "# scorecard = []\n",
        "# for record in test_data_list:\n",
        "#     all_values = record.split(',')\n",
        "#     correct_label = int(all_values[0])\n",
        "#     # print(correct_label, \"correct label\")\n",
        "#     inputs = (np.asfarray(all_values[1:]) / 255.0 * 0.99) + 0.01\n",
        "#     outputs = model.predict(inputs)\n",
        "#     label = np.argmax(outputs)\n",
        "#     # print(label, \"network's answer\")\n",
        "#     if (label == correct_label):\n",
        "#         scorecard\n",
        "#         scorecard.append(1)\n",
        "#     else:\n",
        "#         scorecard\n",
        "#         scorecard.append(0)\n",
        "\n"
      ],
      "id": "wdmo5cIHKuB-",
      "execution_count": 169,
      "outputs": []
    },
    {
      "cell_type": "code",
      "metadata": {
        "id": "JZupRcGcKuKC",
        "colab": {
          "base_uri": "https://localhost:8080/"
        },
        "outputId": "f2765de6-9789-4a29-91e1-df82dafd4263"
      },
      "source": [
        "# scorecard_array = np.asarray(scorecard)\n",
        "# print (\"performance = \", scorecard_array.sum() /\n",
        "# scorecard_array.size)"
      ],
      "id": "JZupRcGcKuKC",
      "execution_count": 170,
      "outputs": [
        {
          "output_type": "stream",
          "text": [
            "performance =  0.9419\n"
          ],
          "name": "stdout"
        }
      ]
    },
    {
      "cell_type": "code",
      "metadata": {
        "id": "LWaMIitZd6h6"
      },
      "source": [
        ""
      ],
      "id": "LWaMIitZd6h6",
      "execution_count": 170,
      "outputs": []
    },
    {
      "cell_type": "markdown",
      "metadata": {
        "id": "EIsTtYcGd1NT"
      },
      "source": [
        "## Random Test"
      ],
      "id": "EIsTtYcGd1NT"
    },
    {
      "cell_type": "code",
      "metadata": {
        "id": "WGQXt_pzKuSS"
      },
      "source": [
        "test = test_data_list[0]"
      ],
      "id": "WGQXt_pzKuSS",
      "execution_count": 176,
      "outputs": []
    },
    {
      "cell_type": "code",
      "metadata": {
        "id": "Ar-FmkFp1o0u",
        "colab": {
          "base_uri": "https://localhost:8080/",
          "height": 282
        },
        "outputId": "54166279-abe2-48ea-b3cf-9ca2ae1535f9"
      },
      "source": [
        "image_array= np.asfarray(all_values[1:]).reshape((28,28))\n",
        "plt.imshow(image_array, cmap='Greys',\n",
        "interpolation='None')"
      ],
      "id": "Ar-FmkFp1o0u",
      "execution_count": 178,
      "outputs": [
        {
          "output_type": "execute_result",
          "data": {
            "text/plain": [
              "<matplotlib.image.AxesImage at 0x7f5231f78350>"
            ]
          },
          "metadata": {
            "tags": []
          },
          "execution_count": 178
        },
        {
          "output_type": "display_data",
          "data": {
            "image/png": "[encoded data removed]",
            "text/plain": [
              "<Figure size 432x288 with 1 Axes>"
            ]
          },
          "metadata": {
            "tags": [],
            "needs_background": "light"
          }
        }
      ]
    },
    {
      "cell_type": "code",
      "metadata": {
        "colab": {
          "base_uri": "https://localhost:8080/"
        },
        "id": "9iONHMcGdakq",
        "outputId": "28452bc0-3657-43a4-be92-0ba948396fb2"
      },
      "source": [
        "all_values = test.split(',')\n",
        "correct_label = int(all_values[0])\n",
        "print(correct_label, \"is Actual Label\")\n",
        "inputs = (np.asfarray(all_values[1:]) / 255.0 * 0.99) + 0.01\n",
        "outputs = model.predict(inputs)\n",
        "label = np.argmax(outputs)\n",
        "print(label, \"is network's answer\")"
      ],
      "id": "9iONHMcGdakq",
      "execution_count": 179,
      "outputs": [
        {
          "output_type": "stream",
          "text": [
            "7 is Actual Label\n",
            "7 is network's answer\n"
          ],
          "name": "stdout"
        }
      ]
    },
    {
      "cell_type": "code",
      "metadata": {
        "id": "KgT2gcZCdciy"
      },
      "source": [
        ""
      ],
      "id": "KgT2gcZCdciy",
      "execution_count": 179,
      "outputs": []
    },
    {
      "cell_type": "code",
      "metadata": {
        "id": "VJGjSoiMdcos"
      },
      "source": [
        ""
      ],
      "id": "VJGjSoiMdcos",
      "execution_count": 179,
      "outputs": []
    },
    {
      "cell_type": "code",
      "metadata": {
        "id": "VQhHUFx_dcs-"
      },
      "source": [
        ""
      ],
      "id": "VQhHUFx_dcs-",
      "execution_count": null,
      "outputs": []
    }
  ]
}