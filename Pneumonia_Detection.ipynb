{
  "nbformat": 4,
  "nbformat_minor": 0,
  "metadata": {
    "accelerator": "GPU",
    "colab": {
      "name": "Pneumonia Detection.ipynb",
      "provenance": [],
      "collapsed_sections": []
    },
    "kernelspec": {
      "display_name": "Python 3",
      "name": "python3"
    },
    "language_info": {
      "name": "python"
    }
  },
  "cells": [
    {
      "cell_type": "markdown",
      "metadata": {
        "id": "7RCWuveLsLHc"
      },
      "source": [
        "#Pneumonia Detection with Image Classification\n"
      ]
    },
    {
      "cell_type": "markdown",
      "metadata": {
        "id": "18wisZgWprZa"
      },
      "source": [
        "\n",
        "### The architecture used is AlexNet following this [paper](https://link.springer.com/article/10.1007/s12559-020-09787-5)\n",
        "\n",
        "### Data is taken from [Kaggle](https://www.kaggle.com/paultimothymooney/chest-xray-pneumonia).\n",
        "\n",
        "### [Instructions](https://medium.com/analytics-vidhya/how-to-fetch-kaggle-datasets-into-google-colab-ea682569851a) on working with the Kaggle API \n",
        "\n",
        "#### The thresholds are by default set so that images with a pneumonia doubt are given more importance. In doing so, it may label normal people as pneumonia  \n",
        "\n",
        "### An alternative model can be found [here](https://github.com/hasan-farooq/Neural-Network/blob/main/model.h5) for loading and predicting (MANUALLY)"
      ]
    },
    {
      "cell_type": "markdown",
      "metadata": {
        "id": "2XkwtN4_wSL9"
      },
      "source": [
        "### Loading the model\n",
        "-> Download libraries and model\n",
        "\n",
        "-> Import libraries\n",
        "\n",
        "\n",
        "\n",
        "\n",
        "```\n",
        "# Follow these steps then...\n",
        "model = tf.keras.models.load_model(\"model.h5\")\n",
        "data = np.array(Image.open('your image.format(i.e.png)').resize((150,150)))\n",
        "temp = Image.fromarray(data)\n",
        "rgb_temp = temp.convert('RGB')\n",
        "plt.imshow(rgb_temp)\n",
        "final = np.array(rgb)\n",
        "final = final[np.newaxis is None,:,:,:]\n",
        "final = final/255\n",
        "result = model.predict([[final]])\n",
        "```\n",
        "The result will be probabilties of yes/no\n",
        "\n"
      ]
    },
    {
      "cell_type": "code",
      "metadata": {
        "id": "cRNxC0QKqWo0"
      },
      "source": [
        ""
      ],
      "execution_count": 11,
      "outputs": []
    },
    {
      "cell_type": "markdown",
      "metadata": {
        "id": "MY276K0EqW_t"
      },
      "source": [
        "### Enabling GPU"
      ]
    },
    {
      "cell_type": "code",
      "metadata": {
        "id": "OLQf7p8LwZHI"
      },
      "source": [
        "%tensorflow_version 2.x\n",
        "import tensorflow as tf\n",
        "device_name = tf.test.gpu_device_name()\n",
        "if device_name != '/device:GPU:0':\n",
        "  raise SystemError('GPU device not found')\n",
        "print('Found GPU at: {}'.format(device_name))"
      ],
      "execution_count": null,
      "outputs": []
    },
    {
      "cell_type": "code",
      "metadata": {
        "id": "Vsc6rOXGrITn"
      },
      "source": [
        ""
      ],
      "execution_count": null,
      "outputs": []
    },
    {
      "cell_type": "markdown",
      "metadata": {
        "id": "4_4egduErH2Y"
      },
      "source": [
        "## Mounting Google Drive"
      ]
    },
    {
      "cell_type": "code",
      "metadata": {
        "id": "dBNt9IdlwZI1"
      },
      "source": [
        "from google.colab import drive\n",
        "drive.mount('/content/gdrive')"
      ],
      "execution_count": null,
      "outputs": []
    },
    {
      "cell_type": "code",
      "metadata": {
        "id": "TLC7z1R8wZLm"
      },
      "source": [
        "import os\n",
        "os.environ['KAGGLE_CONFIG_DIR'] = \"/content/gdrive/My Drive/Kaggle\""
      ],
      "execution_count": null,
      "outputs": []
    },
    {
      "cell_type": "code",
      "metadata": {
        "id": "jW7nlgIam_BL"
      },
      "source": [
        "%cd /content/gdrive/My Drive/Kaggle"
      ],
      "execution_count": null,
      "outputs": []
    },
    {
      "cell_type": "markdown",
      "metadata": {
        "id": "fmrDI4pprQds"
      },
      "source": [
        "## Libraries"
      ]
    },
    {
      "cell_type": "code",
      "metadata": {
        "id": "XKZmOnwFm_Du"
      },
      "source": [
        "import re\n",
        "import os\n",
        "import numpy as np\n",
        "import pandas as pd\n",
        "import tensorflow as tf\n",
        "import matplotlib.pyplot as plt\n",
        "from PIL import Image\n",
        "from tensorflow import keras\n",
        "from sklearn.metrics import accuracy_score, classification_report\n",
        "from keras.preprocessing.image import ImageDataGenerator, load_img\n",
        "from keras.models import Sequential\n",
        "from keras.layers import Conv2D, MaxPooling2D\n",
        "from keras.layers import Activation, Dropout, Flatten, Dense, BatchNormalization\n",
        "%matplotlib inline"
      ],
      "execution_count": null,
      "outputs": []
    },
    {
      "cell_type": "markdown",
      "metadata": {
        "id": "DESvI8hfrT5E"
      },
      "source": [
        "### Uncomment following cells to download data"
      ]
    },
    {
      "cell_type": "code",
      "metadata": {
        "id": "M7S1Mz5Jm_Ig"
      },
      "source": [
        "# !kaggle datasets download -d paultimothymooney/chest-xray-pneumonia"
      ],
      "execution_count": null,
      "outputs": []
    },
    {
      "cell_type": "code",
      "metadata": {
        "id": "DzVGScYmm_K0"
      },
      "source": [
        "# !unzip \\*.zip "
      ],
      "execution_count": null,
      "outputs": []
    },
    {
      "cell_type": "markdown",
      "metadata": {
        "id": "MIDt9YzyraF9"
      },
      "source": [
        ""
      ]
    },
    {
      "cell_type": "code",
      "metadata": {
        "id": "kokvYO3em_M2"
      },
      "source": [
        "test_path = \"chest_xray/chest_xray/test\"\n",
        "train_path = \"chest_xray/chest_xray/train\"\n",
        "val_path = \"chest_xray/chest_xray/val\"\n",
        "\n",
        "epochs = 10\n",
        "batch_size = 16\n",
        "img_width, img_height = 227, 227\n",
        "input_shape = (img_width, img_height, 3)"
      ],
      "execution_count": null,
      "outputs": []
    },
    {
      "cell_type": "markdown",
      "metadata": {
        "id": "5TmE6iX-reZK"
      },
      "source": [
        "### Uncomment the following cell to see if image is loaded "
      ]
    },
    {
      "cell_type": "code",
      "metadata": {
        "id": "CxnIgDVfm_Qg"
      },
      "source": [
        "# normal_image = load_img(test_path+\"/NORMAL/NORMAL2-IM-0041-0001.jpeg\",color_mode = 'grayscale', target_size = (128,128))\n",
        "# plt.imshow(normal_image)"
      ],
      "execution_count": 12,
      "outputs": []
    },
    {
      "cell_type": "code",
      "metadata": {
        "id": "tKfHgx5Hm_SW"
      },
      "source": [
        ""
      ],
      "execution_count": null,
      "outputs": []
    },
    {
      "cell_type": "markdown",
      "metadata": {
        "id": "g-fCrEGzrlLf"
      },
      "source": [
        "## AlexNet Architecture \n",
        "![picture](https://anhreynolds.com/img/alexnet.png)"
      ]
    },
    {
      "cell_type": "code",
      "metadata": {
        "id": "VpBpG9umrlgh"
      },
      "source": [
        ""
      ],
      "execution_count": null,
      "outputs": []
    },
    {
      "cell_type": "code",
      "metadata": {
        "id": "_lU32TXEm_UY"
      },
      "source": [
        "\n",
        "class CNN_Model():\n",
        "\n",
        "  def __init__(self,input_shape = (227,227,3), optimizer = 'adam', batch_size = 16, epochs=10):\n",
        "    self.batch_size = batch_size\n",
        "    self.epochs = epochs\n",
        "    self.optimizer = optimizer\n",
        "    self.loss = \"binary_crossentropy\"\n",
        "    self.metric = \"accuracy\"\n",
        "\n",
        "    model = Sequential()\n",
        "    \n",
        "    model.add(Conv2D(filters=(96),kernel_size=(11,11),strides=(4,4),input_shape=input_shape))\n",
        "    model.add(Activation('relu'))\n",
        "    model.add(MaxPooling2D(pool_size=(3,3),strides=(2,2)))\n",
        "    # model.add(MaxPooling2D(pool_size=(2,2))\n",
        "    model.add(BatchNormalization())\n",
        "\n",
        "    model.add(Conv2D(filters=(256),kernel_size=(5,5),padding='same'))\n",
        "    model.add(Activation('relu'))\n",
        "    model.add(MaxPooling2D(pool_size=(3,3),strides=(2,2)))\n",
        "    model.add(BatchNormalization())\n",
        "\n",
        "    model.add(Conv2D(filters=(384),kernel_size=(3,3),padding='same'))\n",
        "    model.add(Activation('relu'))\n",
        "\n",
        "    model.add(Conv2D(filters=(384),kernel_size=(3,3)))\n",
        "    model.add(Activation('relu'))\n",
        "\n",
        "    model.add(Conv2D(filters=(256),kernel_size=(3,3)))\n",
        "    model.add(Activation('relu'))\n",
        "    model.add(MaxPooling2D(pool_size=(3,3),strides=(2,2)))\n",
        "\n",
        "    model.add(Flatten())\n",
        "    model.add(Dense(4096))\n",
        "    model.add(Activation('relu'))\n",
        "    model.add(Dropout(0.5))\n",
        "    model.add(Dense(4096))\n",
        "    model.add(Activation('relu'))\n",
        "    model.add(Dropout(0.5))\n",
        "    model.add(Dense(1))\n",
        "    model.add(Activation('sigmoid'))\n",
        "\n",
        "    self.model = model\n",
        "\n",
        "  def prepare(self):\n",
        "    self.model.compile(\n",
        "        loss=self.loss,\n",
        "        optimizer=self.optimizer,\n",
        "        metrics=[self.metric]\n",
        "        )\n",
        "  \n",
        "  def train(self, data, data_size, val=None, val_size=None,):\n",
        "    self.model.fit(\n",
        "      data,\n",
        "      steps_per_epoch = data_size // self.batch_size,\n",
        "      epochs=self.epochs,\n",
        "      validation_data = val,\n",
        "      validation_steps = val_size // self.batch_size\n",
        "    )\n",
        "  \n",
        "  def evaluate(self, test_data):\n",
        "    scores = self.model.evaluate(test_data)\n",
        "    print(self.metric + \" -> \" + str(scores))\n",
        "    return scores\n",
        "\n",
        "  def describe(self):\n",
        "    return self.model.summary()\n",
        "\n",
        "  def predict(self, image_path):\n",
        "    data = np.array(Image.open(image).resize((150,150)))\n",
        "    temp = Image.fromarray(data)\n",
        "    temp_rgb = temp.convert('RGB')\n",
        "    plt.imshow(temp_rgb)\n",
        "    final = np.array(rgb)\n",
        "    final = final[np.newaxis is None,:,:,:]\n",
        "    final = final/255\n",
        "    result = self.model.predict([[final]])\n",
        "    return result\n",
        "\n",
        "  def save_model(self,filename=\"model.h5\"):\n",
        "    self.model.save(filename)\n",
        "\n",
        "  def plot(self,X,y, threshold=0.65):\n",
        "    predictions = self.model.predict(X)\n",
        "    # threshold = 0.65\n",
        "    fig=plt.figure(figsize=(15,15))\n",
        "    columns = 4\n",
        "    rows = 4\n",
        "\n",
        "    for i in range(1,16):\n",
        "        flag = y[i-1]\n",
        "        if (flag < 1):\n",
        "          result = \" Real : No\"\n",
        "        else:\n",
        "          result = \" Real : Yes\"\n",
        "        img = X[i-1]\n",
        "        temp = fig.add_subplot(rows, columns, i)\n",
        "        if predictions[i-1] > threshold:\n",
        "          flag\n",
        "          temp.title.set_text(\"Model : Yes |\" + result)\n",
        "        else:\n",
        "          temp.title.set_text(\"Model : No |\" + result)\n",
        "        plt.imshow(img)\n",
        "\n",
        "    fig.suptitle('Dangerous (Pneumonia)', fontsize=15)\n",
        "    plt.show()\n",
        "\n",
        "\n",
        "\n"
      ],
      "execution_count": null,
      "outputs": []
    },
    {
      "cell_type": "code",
      "metadata": {
        "id": "8idbDymhm_YI"
      },
      "source": [
        ""
      ],
      "execution_count": null,
      "outputs": []
    },
    {
      "cell_type": "markdown",
      "metadata": {
        "id": "i-Ybo33Eryjq"
      },
      "source": [
        "## Processing Data "
      ]
    },
    {
      "cell_type": "code",
      "metadata": {
        "id": "IfMzUhtpnQYN"
      },
      "source": [
        "train_datagen = ImageDataGenerator(\n",
        "    rescale=1. / 255,\n",
        "    shear_range=0.2,\n",
        "    zoom_range=0.2,\n",
        "    horizontal_flip=True)"
      ],
      "execution_count": null,
      "outputs": []
    },
    {
      "cell_type": "code",
      "metadata": {
        "id": "WgzHt7u6m_aM"
      },
      "source": [
        "test_datagen = ImageDataGenerator(rescale=1. / 255)"
      ],
      "execution_count": null,
      "outputs": []
    },
    {
      "cell_type": "code",
      "metadata": {
        "id": "vUNPSkz5m_bl"
      },
      "source": [
        "train_generator = train_datagen.flow_from_directory(\n",
        "    train_path,\n",
        "    target_size=(img_width, img_height),\n",
        "    batch_size=batch_size,\n",
        "    class_mode='binary')"
      ],
      "execution_count": null,
      "outputs": []
    },
    {
      "cell_type": "code",
      "metadata": {
        "id": "GdxH4-rem_dJ"
      },
      "source": [
        "validation_generator = test_datagen.flow_from_directory(\n",
        "    val_path,\n",
        "    target_size=(img_width, img_height),\n",
        "    batch_size=batch_size,\n",
        "    class_mode='binary')"
      ],
      "execution_count": null,
      "outputs": []
    },
    {
      "cell_type": "code",
      "metadata": {
        "id": "arsSilbXm_eR"
      },
      "source": [
        "test_generator = test_datagen.flow_from_directory(\n",
        "    test_path,\n",
        "    target_size=(img_width, img_height),\n",
        "    batch_size=batch_size,\n",
        "    class_mode='binary')"
      ],
      "execution_count": null,
      "outputs": []
    },
    {
      "cell_type": "markdown",
      "metadata": {
        "id": "loZM2b5fnXQF"
      },
      "source": [
        "## Initializing Model"
      ]
    },
    {
      "cell_type": "code",
      "metadata": {
        "id": "90R-Vd8XnXS_"
      },
      "source": [
        "model = CNN_Model()"
      ],
      "execution_count": null,
      "outputs": []
    },
    {
      "cell_type": "code",
      "metadata": {
        "id": "Frkg94pdnXV7"
      },
      "source": [
        "model.prepare()"
      ],
      "execution_count": null,
      "outputs": []
    },
    {
      "cell_type": "code",
      "metadata": {
        "id": "VeCEGu0SnXYy"
      },
      "source": [
        "model.train(train_generator,data_size=5217,val=validation_generator,val_size=17)"
      ],
      "execution_count": null,
      "outputs": []
    },
    {
      "cell_type": "markdown",
      "metadata": {
        "id": "4N2YF2xLnXbd"
      },
      "source": [
        "## Plotting a batch"
      ]
    },
    {
      "cell_type": "code",
      "metadata": {
        "id": "dt1a9KgZnXeC"
      },
      "source": [
        "x_batch, y_batch = (test_generator[0])"
      ],
      "execution_count": null,
      "outputs": []
    },
    {
      "cell_type": "code",
      "metadata": {
        "id": "hLBAfjkmnh__"
      },
      "source": [
        "model.evaluate(test_data=test_generator)"
      ],
      "execution_count": null,
      "outputs": []
    },
    {
      "cell_type": "code",
      "metadata": {
        "id": "HLpKaVGRnXgX"
      },
      "source": [
        "model.plot(x_batch,y_batch)"
      ],
      "execution_count": null,
      "outputs": []
    },
    {
      "cell_type": "code",
      "metadata": {
        "id": "370zrXMhn3Fs"
      },
      "source": [
        ""
      ],
      "execution_count": null,
      "outputs": []
    },
    {
      "cell_type": "markdown",
      "metadata": {
        "id": "vmHo8hkqtt0Z"
      },
      "source": [
        "Here are the [First Results](https://drive.google.com/file/d/1j86XgT2QYrCcQYZZuem2_tUazthXYUsB/view) with default parameters\n"
      ]
    },
    {
      "cell_type": "code",
      "metadata": {
        "id": "6inki_dftuaN"
      },
      "source": [
        ""
      ],
      "execution_count": null,
      "outputs": []
    },
    {
      "cell_type": "markdown",
      "metadata": {
        "id": "FRDmL9kitVL-"
      },
      "source": [
        "### To try any image, download it and give the image file-path in predict function. "
      ]
    },
    {
      "cell_type": "code",
      "metadata": {
        "id": "BNoPVjbhtVYL"
      },
      "source": [
        ""
      ],
      "execution_count": null,
      "outputs": []
    }
  ]
}
