{
 "cells": [
  {
   "cell_type": "markdown",
   "id": "8cf7c760",
   "metadata": {},
   "source": [
    "## Digit Classification with PyTorch\n",
    " [Data Used](https://www.kaggle.com/c/digit-recognizer/data)"
   ]
  },
  {
   "cell_type": "code",
   "execution_count": 67,
   "id": "c848b01f",
   "metadata": {},
   "outputs": [],
   "source": [
    "import pandas as pd\n",
    "import numpy as np\n",
    "import torch\n",
    "import random\n",
    "from torch.utils.data import Dataset,DataLoader\n",
    "import matplotlib.pyplot as plt\n",
    "import time\n",
    "import seaborn as sns\n",
    "import torch.nn as nn\n",
    "from tqdm import tqdm\n",
    "import PIL \n",
    "from sklearn.model_selection import train_test_split\n",
    "import torch.nn.functional as F"
   ]
  },
  {
   "cell_type": "markdown",
   "id": "eb2851a2",
   "metadata": {},
   "source": [
    "### Architecture"
   ]
  },
  {
   "cell_type": "code",
   "execution_count": 2,
   "id": "02123439",
   "metadata": {},
   "outputs": [],
   "source": [
    "class CLF(nn.Module):\n",
    "    def __init__(self):\n",
    "        super(CLF,self).__init__()\n",
    "        self.conv1 = nn.Conv2d(1, 10, kernel_size=5)\n",
    "        self.conv2 = nn.Conv2d(10, 20, kernel_size=5)\n",
    "        self.conv2_drop = nn.Dropout2d()\n",
    "        self.fc1 = nn.Linear(320, 50)\n",
    "        self.fc2 = nn.Linear(50, 10)\n",
    "\n",
    "    def forward(self, x):\n",
    "        x = F.relu(F.max_pool2d(self.conv1(x), 2))\n",
    "        x = F.relu(F.max_pool2d(self.conv2_drop(self.conv2(x)), 2))\n",
    "        x = x.view(-1, 320)\n",
    "        x = F.relu(self.fc1(x))\n",
    "        x = F.dropout(x, training=self.training)\n",
    "        x = self.fc2(x)\n",
    "        return x\n",
    "    \n"
   ]
  },
  {
   "cell_type": "markdown",
   "id": "f186eafb",
   "metadata": {},
   "source": [
    "### Data to Tensors"
   ]
  },
  {
   "cell_type": "code",
   "execution_count": 3,
   "id": "d65a53a1",
   "metadata": {},
   "outputs": [],
   "source": [
    "class Sample_DataSet(Dataset):\n",
    "    def __init__(self, filename):\n",
    "        self.data = pd.read_csv(filename)\n",
    "        self.features = self.data.columns[1:]\n",
    "        self.target = self.data.columns[0]\n",
    "        is_nan = self.data.isna().values.any()\n",
    "        if is_nan:\n",
    "            self.data = self.data.dropna().reset_index(drop=True)\n",
    "        self.X = torch.from_numpy(self.data[self.features].to_numpy()).type(torch.float32)\n",
    "        self.y = torch.from_numpy(self.data[self.target].to_numpy()).type(torch.long)\n",
    "        self.X = self.X.reshape(42000,1,28,28)\n",
    "    def __getitem__(self, index):\n",
    "        return self.X[index], self.y[index]\n",
    "    def __len__(self):\n",
    "        return len(self.data)\n"
   ]
  },
  {
   "cell_type": "code",
   "execution_count": 4,
   "id": "e5f5280c",
   "metadata": {},
   "outputs": [],
   "source": [
    "dataset = Sample_DataSet(\"digit-recognizer/train.csv\")"
   ]
  },
  {
   "cell_type": "code",
   "execution_count": 5,
   "id": "e8cc05be",
   "metadata": {},
   "outputs": [
    {
     "data": {
      "text/plain": [
       "torch.Size([42000, 1, 28, 28])"
      ]
     },
     "execution_count": 5,
     "metadata": {},
     "output_type": "execute_result"
    }
   ],
   "source": [
    "dataset.X.shape"
   ]
  },
  {
   "cell_type": "code",
   "execution_count": 45,
   "id": "0f6d698c",
   "metadata": {},
   "outputs": [],
   "source": [
    "dataset.X[0].unsqueeze(dim=0);"
   ]
  },
  {
   "cell_type": "code",
   "execution_count": 46,
   "id": "b1485f7e",
   "metadata": {},
   "outputs": [],
   "source": [
    "dataloader = DataLoader(dataset=dataset, batch_size=32, shuffle=True)"
   ]
  },
  {
   "cell_type": "code",
   "execution_count": 47,
   "id": "3ecd0385",
   "metadata": {},
   "outputs": [],
   "source": [
    "model = CLF()"
   ]
  },
  {
   "cell_type": "markdown",
   "id": "1766e8a9",
   "metadata": {},
   "source": [
    "### Hyper-Parameters"
   ]
  },
  {
   "cell_type": "code",
   "execution_count": 48,
   "id": "16635f47",
   "metadata": {},
   "outputs": [],
   "source": [
    "criterion = nn.CrossEntropyLoss()\n",
    "optimizer = torch.optim.Adam(model.parameters(), lr=0.001)\n",
    "epoch = 10"
   ]
  },
  {
   "cell_type": "markdown",
   "id": "d870aaef",
   "metadata": {},
   "source": [
    "### Training"
   ]
  },
  {
   "cell_type": "code",
   "execution_count": 66,
   "id": "b7cb041d",
   "metadata": {},
   "outputs": [],
   "source": [
    "def train():\n",
    "    for i in (range(epoch)):\n",
    "        # batch-by-batch\n",
    "        for X, y in tqdm(dataloader):\n",
    "            # forward pass\n",
    "            optimizer.zero_grad()\n",
    "            output = model(X)\n",
    "            # loss calculation\n",
    "            loss = criterion(output,y)\n",
    "            temp = loss\n",
    "            ##backpropagation\n",
    "            loss.backward()\n",
    "            optimizer.step()\n",
    "#         if i % 15 == 0:\n",
    "        print(\"Loss -> \", loss.item())\n",
    "    print(\"Loss -> \", loss.item())\n"
   ]
  },
  {
   "cell_type": "code",
   "execution_count": 50,
   "id": "af8d7b5d",
   "metadata": {
    "scrolled": true
   },
   "outputs": [
    {
     "name": "stderr",
     "output_type": "stream",
     "text": [
      "100%|██████████████████████████████████████| 1313/1313 [00:13<00:00, 100.55it/s]\n"
     ]
    },
    {
     "name": "stdout",
     "output_type": "stream",
     "text": [
      "Loss ->  0.3869244158267975\n"
     ]
    },
    {
     "name": "stderr",
     "output_type": "stream",
     "text": [
      "100%|███████████████████████████████████████| 1313/1313 [00:13<00:00, 94.38it/s]\n"
     ]
    },
    {
     "name": "stdout",
     "output_type": "stream",
     "text": [
      "Loss ->  0.23793669044971466\n"
     ]
    },
    {
     "name": "stderr",
     "output_type": "stream",
     "text": [
      "100%|███████████████████████████████████████| 1313/1313 [00:14<00:00, 93.24it/s]\n"
     ]
    },
    {
     "name": "stdout",
     "output_type": "stream",
     "text": [
      "Loss ->  0.017408454790711403\n"
     ]
    },
    {
     "name": "stderr",
     "output_type": "stream",
     "text": [
      "100%|███████████████████████████████████████| 1313/1313 [00:13<00:00, 99.21it/s]\n"
     ]
    },
    {
     "name": "stdout",
     "output_type": "stream",
     "text": [
      "Loss ->  0.4173582196235657\n"
     ]
    },
    {
     "name": "stderr",
     "output_type": "stream",
     "text": [
      "100%|███████████████████████████████████████| 1313/1313 [00:14<00:00, 93.39it/s]\n"
     ]
    },
    {
     "name": "stdout",
     "output_type": "stream",
     "text": [
      "Loss ->  0.11674193292856216\n"
     ]
    },
    {
     "name": "stderr",
     "output_type": "stream",
     "text": [
      "100%|██████████████████████████████████████| 1313/1313 [00:13<00:00, 100.53it/s]\n"
     ]
    },
    {
     "name": "stdout",
     "output_type": "stream",
     "text": [
      "Loss ->  0.22493037581443787\n"
     ]
    },
    {
     "name": "stderr",
     "output_type": "stream",
     "text": [
      "100%|██████████████████████████████████████| 1313/1313 [00:12<00:00, 107.43it/s]\n"
     ]
    },
    {
     "name": "stdout",
     "output_type": "stream",
     "text": [
      "Loss ->  0.007482167333364487\n"
     ]
    },
    {
     "name": "stderr",
     "output_type": "stream",
     "text": [
      "100%|██████████████████████████████████████| 1313/1313 [00:11<00:00, 111.91it/s]\n"
     ]
    },
    {
     "name": "stdout",
     "output_type": "stream",
     "text": [
      "Loss ->  0.4095175862312317\n"
     ]
    },
    {
     "name": "stderr",
     "output_type": "stream",
     "text": [
      "100%|██████████████████████████████████████| 1313/1313 [00:11<00:00, 110.06it/s]\n"
     ]
    },
    {
     "name": "stdout",
     "output_type": "stream",
     "text": [
      "Loss ->  0.2089928239583969\n"
     ]
    },
    {
     "name": "stderr",
     "output_type": "stream",
     "text": [
      "100%|██████████████████████████████████████| 1313/1313 [00:12<00:00, 107.10it/s]"
     ]
    },
    {
     "name": "stdout",
     "output_type": "stream",
     "text": [
      "Loss ->  0.06518575549125671\n",
      "Loss ->  0.06518575549125671\n",
      "252.267040387\n"
     ]
    },
    {
     "name": "stderr",
     "output_type": "stream",
     "text": [
      "\n"
     ]
    }
   ],
   "source": [
    "start = time.process_time()\n",
    "train()\n",
    "print(time.process_time() - start)"
   ]
  },
  {
   "cell_type": "markdown",
   "id": "2c5c7891",
   "metadata": {},
   "source": []
  },
  {
   "cell_type": "code",
   "execution_count": 52,
   "id": "28c71317",
   "metadata": {},
   "outputs": [],
   "source": [
    "test = pd.read_csv(\"digit-recognizer/test.csv\").to_numpy()"
   ]
  },
  {
   "cell_type": "code",
   "execution_count": 53,
   "id": "ebb6bb27",
   "metadata": {},
   "outputs": [],
   "source": [
    "sample = torch.from_numpy(test[0]).type(torch.float32).reshape(1,28,28)"
   ]
  },
  {
   "cell_type": "code",
   "execution_count": 54,
   "id": "eb779016",
   "metadata": {},
   "outputs": [
    {
     "data": {
      "text/plain": [
       "tensor(2)"
      ]
     },
     "execution_count": 54,
     "metadata": {},
     "output_type": "execute_result"
    }
   ],
   "source": [
    "model(sample.unsqueeze(dim=0)).argmax()"
   ]
  },
  {
   "cell_type": "code",
   "execution_count": 55,
   "id": "2c69eb4c",
   "metadata": {},
   "outputs": [
    {
     "data": {
      "text/plain": [
       "<matplotlib.image.AxesImage at 0x7f347ca50af0>"
      ]
     },
     "execution_count": 55,
     "metadata": {},
     "output_type": "execute_result"
    },
    {
     "data": {
      "image/png": "[encoded data removed]",
      "text/plain": [
       "<Figure size 432x288 with 1 Axes>"
      ]
     },
     "metadata": {
      "needs_background": "light"
     },
     "output_type": "display_data"
    }
   ],
   "source": [
    "plt.imshow(sample.reshape(28,28),cmap='gray')"
   ]
  },
  {
   "cell_type": "code",
   "execution_count": null,
   "id": "dfd3604c",
   "metadata": {},
   "outputs": [],
   "source": []
  },
  {
   "cell_type": "markdown",
   "id": "f74d1e5b",
   "metadata": {},
   "source": []
  }
 ],
 "metadata": {
  "kernelspec": {
   "display_name": "Python 3 (ipykernel)",
   "language": "python",
   "name": "python3"
  },
  "language_info": {
   "codemirror_mode": {
    "name": "ipython",
    "version": 3
   },
   "file_extension": ".py",
   "mimetype": "text/x-python",
   "name": "python",
   "nbconvert_exporter": "python",
   "pygments_lexer": "ipython3",
   "version": "3.9.5"
  }
 },
 "nbformat": 4,
 "nbformat_minor": 5
}
